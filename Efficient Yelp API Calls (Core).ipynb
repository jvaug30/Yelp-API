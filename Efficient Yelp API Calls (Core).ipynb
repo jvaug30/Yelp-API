{
 "cells": [
  {
   "cell_type": "code",
   "execution_count": 1,
   "id": "a95ceb84",
   "metadata": {},
   "outputs": [],
   "source": [
    "# Standard Imports\n",
    "import numpy as np\n",
    "import pandas as pd\n",
    "import matplotlib.pyplot as plt\n",
    "import seaborn as sns\n",
    "\n",
    "# Additional Imports\n",
    "import os, json, math, time\n",
    "from yelpapi import YelpAPI\n",
    "from tqdm.notebook import tqdm_notebook"
   ]
  },
  {
   "cell_type": "code",
   "execution_count": 2,
   "id": "33935f7a",
   "metadata": {},
   "outputs": [
    {
     "data": {
      "text/plain": [
       "dict_keys(['Client-id', 'api-key'])"
      ]
     },
     "execution_count": 2,
     "metadata": {},
     "output_type": "execute_result"
    }
   ],
   "source": [
    "# Load API Credentials\n",
    "import json\n",
    "with open('C:\\\\Users\\\\javaughn\\\\OneDrive - HORNE LLP\\\\Desktop\\\\yelp_api.json') as f:\n",
    "    login = json.load(f)\n",
    "login.keys()"
   ]
  },
  {
   "cell_type": "code",
   "execution_count": 3,
   "id": "eef92188",
   "metadata": {},
   "outputs": [
    {
     "data": {
      "text/plain": [
       "<yelpapi.yelpapi.YelpAPI at 0x2de10db4948>"
      ]
     },
     "execution_count": 3,
     "metadata": {},
     "output_type": "execute_result"
    }
   ],
   "source": [
    "# Instantiate YelpAPI Variable\n",
    "yelp_api = YelpAPI(login['api-key'], timeout_s=5)\n",
    "yelp_api"
   ]
  },
  {
   "cell_type": "code",
   "execution_count": 4,
   "id": "7ed2d6ba",
   "metadata": {},
   "outputs": [],
   "source": [
    "# Set out API call parameters and filename before the first call\n",
    "LOCATION = 'Memphis, TN, 38016'\n",
    "TERM = 'Barbecue'"
   ]
  },
  {
   "cell_type": "code",
   "execution_count": 5,
   "id": "e9877f1e",
   "metadata": {},
   "outputs": [
    {
     "data": {
      "text/plain": [
       "'Data/results_in_progress_Barbecue.json'"
      ]
     },
     "execution_count": 5,
     "metadata": {},
     "output_type": "execute_result"
    }
   ],
   "source": [
    "# Specifying JSON_FILE filename (can include a folder)\n",
    "# Include the search terms in the filename\n",
    "JSON_FILE = f\"Data/results_in_progress_Barbecue.json\"\n",
    "JSON_FILE"
   ]
  },
  {
   "cell_type": "code",
   "execution_count": 6,
   "id": "9996f9ea",
   "metadata": {},
   "outputs": [
    {
     "name": "stdout",
     "output_type": "stream",
     "text": [
      "[i] Data/results_in_progress_Barbecue.json not found. Saving empty list to file.\n"
     ]
    }
   ],
   "source": [
    "## Check if JSON_FILE exists\n",
    "file_exists = os.path.isfile(JSON_FILE)\n",
    "## If it does not exist: \n",
    "if file_exists == False:\n",
    "    \n",
    "    ## CREATE ANY NEEDED FOLDERS\n",
    "    # Get the Folder Name only\n",
    "    folder = os.path.dirname(JSON_FILE)\n",
    "    ## If JSON_FILE included a folder:\n",
    "    if len(folder)>0:\n",
    "        # create the folder\n",
    "        os.makedirs(folder,exist_ok=True)\n",
    "        \n",
    "        \n",
    "    ## INFORM USER AND SAVE EMPTY LIST\n",
    "    print(f\"[i] {JSON_FILE} not found. Saving empty list to file.\")\n",
    "    \n",
    "    \n",
    "    ## save the first page of results\n",
    "    with open(JSON_FILE,'w') as f:\n",
    "        json.dump([],f)  \n",
    "## If it exists, inform user\n",
    "else:\n",
    "    print(f\"[i] {JSON_FILE} already exists.\")"
   ]
  },
  {
   "cell_type": "code",
   "execution_count": 7,
   "id": "cf01c3bf",
   "metadata": {},
   "outputs": [
    {
     "name": "stdout",
     "output_type": "stream",
     "text": [
      "- 0 previous results found.\n"
     ]
    }
   ],
   "source": [
    "## Load previous results and use len of results for offset\n",
    "with open(JSON_FILE,'r') as f:\n",
    "    previous_results = json.load(f)\n",
    "    \n",
    "## set offset based on previous results\n",
    "n_results = len(previous_results)\n",
    "print(f'- {n_results} previous results found.')"
   ]
  },
  {
   "cell_type": "code",
   "execution_count": 8,
   "id": "8d8e6f0e",
   "metadata": {},
   "outputs": [
    {
     "data": {
      "text/plain": [
       "dict_keys(['businesses', 'total', 'region'])"
      ]
     },
     "execution_count": 8,
     "metadata": {},
     "output_type": "execute_result"
    }
   ],
   "source": [
    "# use our yelp_api variable's search_query method to perform our API call\n",
    "results = yelp_api.search_query(location=LOCATION,\n",
    "                                term=TERM,\n",
    "                               offset=n_results+1)\n",
    "results.keys()"
   ]
  },
  {
   "cell_type": "code",
   "execution_count": 9,
   "id": "74a2f384",
   "metadata": {},
   "outputs": [
    {
     "data": {
      "text/plain": [
       "540"
      ]
     },
     "execution_count": 9,
     "metadata": {},
     "output_type": "execute_result"
    }
   ],
   "source": [
    "## How many results total?\n",
    "total_results = results['total']\n",
    "total_results"
   ]
  },
  {
   "cell_type": "code",
   "execution_count": 10,
   "id": "62ae4314",
   "metadata": {},
   "outputs": [
    {
     "data": {
      "text/plain": [
       "20"
      ]
     },
     "execution_count": 10,
     "metadata": {},
     "output_type": "execute_result"
    }
   ],
   "source": [
    "## How many did we get the details for?\n",
    "results_per_page = len(results['businesses'])\n",
    "results_per_page"
   ]
  },
  {
   "cell_type": "code",
   "execution_count": 11,
   "id": "75023c9b",
   "metadata": {},
   "outputs": [
    {
     "data": {
      "text/plain": [
       "27"
      ]
     },
     "execution_count": 11,
     "metadata": {},
     "output_type": "execute_result"
    }
   ],
   "source": [
    "# Import additional packages for controlling our loop\n",
    "import time, math\n",
    "# Use math.ceil to round up for the total number of pages of results.\n",
    "n_pages = math.ceil((results['total']-n_results)/ results_per_page)\n",
    "n_pages"
   ]
  },
  {
   "cell_type": "code",
   "execution_count": 12,
   "id": "af57f9d4",
   "metadata": {},
   "outputs": [],
   "source": [
    "# join new results with old list with extend and save to file\n",
    "previous_results.extend(results['businesses'])  \n",
    "with open(JSON_FILE,'w') as f:\n",
    "     json.dump(previous_results,f)"
   ]
  },
  {
   "cell_type": "code",
   "execution_count": 13,
   "id": "38252f40",
   "metadata": {},
   "outputs": [
    {
     "data": {
      "application/vnd.jupyter.widget-view+json": {
       "model_id": "335cfc59c6e94497a82fde535378458d",
       "version_major": 2,
       "version_minor": 0
      },
      "text/plain": [
       "  0%|          | 0/27 [00:00<?, ?it/s]"
      ]
     },
     "metadata": {},
     "output_type": "display_data"
    }
   ],
   "source": [
    "from tqdm.notebook import tqdm_notebook\n",
    "import time\n",
    "for i in tqdm_notebook(range(n_pages)):\n",
    "    # adds 200 ms pause\n",
    "    time.sleep(.2) "
   ]
  },
  {
   "cell_type": "code",
   "execution_count": 14,
   "id": "eefca401",
   "metadata": {},
   "outputs": [
    {
     "data": {
      "application/vnd.jupyter.widget-view+json": {
       "model_id": "7064a1b8c7174a86ac25a7e63674fde1",
       "version_major": 2,
       "version_minor": 0
      },
      "text/plain": [
       "  0%|          | 0/27 [00:00<?, ?it/s]"
      ]
     },
     "metadata": {},
     "output_type": "display_data"
    }
   ],
   "source": [
    "for i in tqdm_notebook( range(1,n_pages+1)):\n",
    "    time.sleep(.2)\n",
    "    ## Read in results in progress file and check the length\n",
    "    with open(JSON_FILE, 'r') as f:\n",
    "        previous_results = json.load(f)\n",
    "    ## save number of results for to use as offset\n",
    "    n_results = len(previous_results)\n",
    "    ## use n_results as the OFFSET \n",
    "    results = yelp_api.search_query(location=LOCATION,\n",
    "                                    term=TERM, \n",
    "                                    offset=n_results+1)\n",
    "    \n",
    "    ## append new results and save to file\n",
    "    previous_results.extend(results['businesses'])\n",
    "    \n",
    "#     display(previous_results)\n",
    "    with open(JSON_FILE,'w') as f:\n",
    "        json.dump(previous_results,f)"
   ]
  },
  {
   "cell_type": "code",
   "execution_count": 15,
   "id": "bf8a19e0",
   "metadata": {},
   "outputs": [
    {
     "data": {
      "text/html": [
       "<div>\n",
       "<style scoped>\n",
       "    .dataframe tbody tr th:only-of-type {\n",
       "        vertical-align: middle;\n",
       "    }\n",
       "\n",
       "    .dataframe tbody tr th {\n",
       "        vertical-align: top;\n",
       "    }\n",
       "\n",
       "    .dataframe thead th {\n",
       "        text-align: right;\n",
       "    }\n",
       "</style>\n",
       "<table border=\"1\" class=\"dataframe\">\n",
       "  <thead>\n",
       "    <tr style=\"text-align: right;\">\n",
       "      <th></th>\n",
       "      <th>id</th>\n",
       "      <th>alias</th>\n",
       "      <th>name</th>\n",
       "      <th>image_url</th>\n",
       "      <th>is_closed</th>\n",
       "      <th>url</th>\n",
       "      <th>review_count</th>\n",
       "      <th>categories</th>\n",
       "      <th>rating</th>\n",
       "      <th>coordinates</th>\n",
       "      <th>transactions</th>\n",
       "      <th>location</th>\n",
       "      <th>phone</th>\n",
       "      <th>display_phone</th>\n",
       "      <th>distance</th>\n",
       "      <th>price</th>\n",
       "    </tr>\n",
       "  </thead>\n",
       "  <tbody>\n",
       "    <tr>\n",
       "      <th>0</th>\n",
       "      <td>wDkU6d67eyONe8Y5DN5q1w</td>\n",
       "      <td>victory-lane-bbq-lakeland</td>\n",
       "      <td>Victory Lane BBQ</td>\n",
       "      <td>https://s3-media4.fl.yelpcdn.com/bphoto/GvTfrV...</td>\n",
       "      <td>False</td>\n",
       "      <td>https://www.yelp.com/biz/victory-lane-bbq-lake...</td>\n",
       "      <td>6</td>\n",
       "      <td>[{'alias': 'bbq', 'title': 'Barbeque'}, {'alia...</td>\n",
       "      <td>4.5</td>\n",
       "      <td>{'latitude': 35.21336801575167, 'longitude': -...</td>\n",
       "      <td>[pickup, delivery]</td>\n",
       "      <td>{'address1': '3049 Davies Plantation Rd', 'add...</td>\n",
       "      <td>+19012028888</td>\n",
       "      <td>(901) 202-8888</td>\n",
       "      <td>4098.090119</td>\n",
       "      <td>NaN</td>\n",
       "    </tr>\n",
       "    <tr>\n",
       "      <th>1</th>\n",
       "      <td>Uqy3cJHMfc4crc4gpP8ugw</td>\n",
       "      <td>germantown-commissary-germantown</td>\n",
       "      <td>Germantown Commissary</td>\n",
       "      <td>https://s3-media2.fl.yelpcdn.com/bphoto/ovoruf...</td>\n",
       "      <td>False</td>\n",
       "      <td>https://www.yelp.com/biz/germantown-commissary...</td>\n",
       "      <td>1023</td>\n",
       "      <td>[{'alias': 'bbq', 'title': 'Barbeque'}, {'alia...</td>\n",
       "      <td>4.0</td>\n",
       "      <td>{'latitude': 35.08646068169633, 'longitude': -...</td>\n",
       "      <td>[delivery]</td>\n",
       "      <td>{'address1': '2290 S Germantown Rd', 'address2...</td>\n",
       "      <td>+19017545540</td>\n",
       "      <td>(901) 754-5540</td>\n",
       "      <td>11152.323116</td>\n",
       "      <td>$$</td>\n",
       "    </tr>\n",
       "    <tr>\n",
       "      <th>2</th>\n",
       "      <td>w10k316Q5Aa7OXqypdjwsQ</td>\n",
       "      <td>ferguson-s-bbq-memphis</td>\n",
       "      <td>Ferguson’s BBQ</td>\n",
       "      <td>https://s3-media2.fl.yelpcdn.com/bphoto/ef9eUh...</td>\n",
       "      <td>False</td>\n",
       "      <td>https://www.yelp.com/biz/ferguson-s-bbq-memphi...</td>\n",
       "      <td>20</td>\n",
       "      <td>[{'alias': 'bbq', 'title': 'Barbeque'}]</td>\n",
       "      <td>4.5</td>\n",
       "      <td>{'latitude': 35.201531, 'longitude': -89.835702}</td>\n",
       "      <td>[pickup, delivery]</td>\n",
       "      <td>{'address1': '2770 Whitten Rd', 'address2': ''...</td>\n",
       "      <td>+19013215490</td>\n",
       "      <td>(901) 321-5490</td>\n",
       "      <td>6786.809153</td>\n",
       "      <td>NaN</td>\n",
       "    </tr>\n",
       "    <tr>\n",
       "      <th>3</th>\n",
       "      <td>7O0X85RPLM7Y5n8569-_Bg</td>\n",
       "      <td>corkys-bar-b-q-memphis</td>\n",
       "      <td>Corky's Bar-B-Q</td>\n",
       "      <td>https://s3-media1.fl.yelpcdn.com/bphoto/YdXDT0...</td>\n",
       "      <td>False</td>\n",
       "      <td>https://www.yelp.com/biz/corkys-bar-b-q-memphi...</td>\n",
       "      <td>209</td>\n",
       "      <td>[{'alias': 'bbq', 'title': 'Barbeque'}]</td>\n",
       "      <td>3.5</td>\n",
       "      <td>{'latitude': 35.1724870130312, 'longitude': -8...</td>\n",
       "      <td>[pickup, delivery]</td>\n",
       "      <td>{'address1': '1740 N Germantown Rd', 'address2...</td>\n",
       "      <td>+19017371988</td>\n",
       "      <td>(901) 737-1988</td>\n",
       "      <td>2575.668605</td>\n",
       "      <td>$$</td>\n",
       "    </tr>\n",
       "    <tr>\n",
       "      <th>4</th>\n",
       "      <td>58v51swfxBVywZBcGq65bg</td>\n",
       "      <td>tys-smokehouse-bartlett</td>\n",
       "      <td>Ty's Smokehouse</td>\n",
       "      <td>https://s3-media1.fl.yelpcdn.com/bphoto/gGifvQ...</td>\n",
       "      <td>False</td>\n",
       "      <td>https://www.yelp.com/biz/tys-smokehouse-bartle...</td>\n",
       "      <td>92</td>\n",
       "      <td>[{'alias': 'smokehouse', 'title': 'Smokehouse'}]</td>\n",
       "      <td>4.0</td>\n",
       "      <td>{'latitude': 35.204716872216096, 'longitude': ...</td>\n",
       "      <td>[pickup, delivery]</td>\n",
       "      <td>{'address1': '7174 Stage Rd', 'address2': 'Ste...</td>\n",
       "      <td>+19013848111</td>\n",
       "      <td>(901) 384-8111</td>\n",
       "      <td>5981.840989</td>\n",
       "      <td>$</td>\n",
       "    </tr>\n",
       "  </tbody>\n",
       "</table>\n",
       "</div>"
      ],
      "text/plain": [
       "                       id                             alias  \\\n",
       "0  wDkU6d67eyONe8Y5DN5q1w         victory-lane-bbq-lakeland   \n",
       "1  Uqy3cJHMfc4crc4gpP8ugw  germantown-commissary-germantown   \n",
       "2  w10k316Q5Aa7OXqypdjwsQ            ferguson-s-bbq-memphis   \n",
       "3  7O0X85RPLM7Y5n8569-_Bg            corkys-bar-b-q-memphis   \n",
       "4  58v51swfxBVywZBcGq65bg           tys-smokehouse-bartlett   \n",
       "\n",
       "                    name                                          image_url  \\\n",
       "0       Victory Lane BBQ  https://s3-media4.fl.yelpcdn.com/bphoto/GvTfrV...   \n",
       "1  Germantown Commissary  https://s3-media2.fl.yelpcdn.com/bphoto/ovoruf...   \n",
       "2         Ferguson’s BBQ  https://s3-media2.fl.yelpcdn.com/bphoto/ef9eUh...   \n",
       "3        Corky's Bar-B-Q  https://s3-media1.fl.yelpcdn.com/bphoto/YdXDT0...   \n",
       "4        Ty's Smokehouse  https://s3-media1.fl.yelpcdn.com/bphoto/gGifvQ...   \n",
       "\n",
       "   is_closed                                                url  review_count  \\\n",
       "0      False  https://www.yelp.com/biz/victory-lane-bbq-lake...             6   \n",
       "1      False  https://www.yelp.com/biz/germantown-commissary...          1023   \n",
       "2      False  https://www.yelp.com/biz/ferguson-s-bbq-memphi...            20   \n",
       "3      False  https://www.yelp.com/biz/corkys-bar-b-q-memphi...           209   \n",
       "4      False  https://www.yelp.com/biz/tys-smokehouse-bartle...            92   \n",
       "\n",
       "                                          categories  rating  \\\n",
       "0  [{'alias': 'bbq', 'title': 'Barbeque'}, {'alia...     4.5   \n",
       "1  [{'alias': 'bbq', 'title': 'Barbeque'}, {'alia...     4.0   \n",
       "2            [{'alias': 'bbq', 'title': 'Barbeque'}]     4.5   \n",
       "3            [{'alias': 'bbq', 'title': 'Barbeque'}]     3.5   \n",
       "4   [{'alias': 'smokehouse', 'title': 'Smokehouse'}]     4.0   \n",
       "\n",
       "                                         coordinates        transactions  \\\n",
       "0  {'latitude': 35.21336801575167, 'longitude': -...  [pickup, delivery]   \n",
       "1  {'latitude': 35.08646068169633, 'longitude': -...          [delivery]   \n",
       "2   {'latitude': 35.201531, 'longitude': -89.835702}  [pickup, delivery]   \n",
       "3  {'latitude': 35.1724870130312, 'longitude': -8...  [pickup, delivery]   \n",
       "4  {'latitude': 35.204716872216096, 'longitude': ...  [pickup, delivery]   \n",
       "\n",
       "                                            location         phone  \\\n",
       "0  {'address1': '3049 Davies Plantation Rd', 'add...  +19012028888   \n",
       "1  {'address1': '2290 S Germantown Rd', 'address2...  +19017545540   \n",
       "2  {'address1': '2770 Whitten Rd', 'address2': ''...  +19013215490   \n",
       "3  {'address1': '1740 N Germantown Rd', 'address2...  +19017371988   \n",
       "4  {'address1': '7174 Stage Rd', 'address2': 'Ste...  +19013848111   \n",
       "\n",
       "    display_phone      distance price  \n",
       "0  (901) 202-8888   4098.090119   NaN  \n",
       "1  (901) 754-5540  11152.323116    $$  \n",
       "2  (901) 321-5490   6786.809153   NaN  \n",
       "3  (901) 737-1988   2575.668605    $$  \n",
       "4  (901) 384-8111   5981.840989     $  "
      ]
     },
     "metadata": {},
     "output_type": "display_data"
    },
    {
     "data": {
      "text/html": [
       "<div>\n",
       "<style scoped>\n",
       "    .dataframe tbody tr th:only-of-type {\n",
       "        vertical-align: middle;\n",
       "    }\n",
       "\n",
       "    .dataframe tbody tr th {\n",
       "        vertical-align: top;\n",
       "    }\n",
       "\n",
       "    .dataframe thead th {\n",
       "        text-align: right;\n",
       "    }\n",
       "</style>\n",
       "<table border=\"1\" class=\"dataframe\">\n",
       "  <thead>\n",
       "    <tr style=\"text-align: right;\">\n",
       "      <th></th>\n",
       "      <th>id</th>\n",
       "      <th>alias</th>\n",
       "      <th>name</th>\n",
       "      <th>image_url</th>\n",
       "      <th>is_closed</th>\n",
       "      <th>url</th>\n",
       "      <th>review_count</th>\n",
       "      <th>categories</th>\n",
       "      <th>rating</th>\n",
       "      <th>coordinates</th>\n",
       "      <th>transactions</th>\n",
       "      <th>location</th>\n",
       "      <th>phone</th>\n",
       "      <th>display_phone</th>\n",
       "      <th>distance</th>\n",
       "      <th>price</th>\n",
       "    </tr>\n",
       "  </thead>\n",
       "  <tbody>\n",
       "    <tr>\n",
       "      <th>534</th>\n",
       "      <td>FujfxdOnpZRGqVIIBDjDZQ</td>\n",
       "      <td>wendys-collierville</td>\n",
       "      <td>Wendy's</td>\n",
       "      <td>https://s3-media3.fl.yelpcdn.com/bphoto/NS3xMp...</td>\n",
       "      <td>False</td>\n",
       "      <td>https://www.yelp.com/biz/wendys-collierville?a...</td>\n",
       "      <td>43</td>\n",
       "      <td>[{'alias': 'burgers', 'title': 'Burgers'}, {'a...</td>\n",
       "      <td>1.5</td>\n",
       "      <td>{'latitude': 35.04637, 'longitude': -89.68607}</td>\n",
       "      <td>[delivery]</td>\n",
       "      <td>{'address1': '714 W Poplar Ave', 'address2': '...</td>\n",
       "      <td>+19018546037</td>\n",
       "      <td>(901) 854-6037</td>\n",
       "      <td>16530.433193</td>\n",
       "      <td>$</td>\n",
       "    </tr>\n",
       "    <tr>\n",
       "      <th>535</th>\n",
       "      <td>fQ1X272mVxgxzQGfWUT13w</td>\n",
       "      <td>wendys-memphis-27</td>\n",
       "      <td>Wendy's</td>\n",
       "      <td>https://s3-media1.fl.yelpcdn.com/bphoto/UdkMfY...</td>\n",
       "      <td>False</td>\n",
       "      <td>https://www.yelp.com/biz/wendys-memphis-27?adj...</td>\n",
       "      <td>11</td>\n",
       "      <td>[{'alias': 'burgers', 'title': 'Burgers'}, {'a...</td>\n",
       "      <td>2.0</td>\n",
       "      <td>{'latitude': 35.04907, 'longitude': -89.79892}</td>\n",
       "      <td>[delivery]</td>\n",
       "      <td>{'address1': '7928 Winchester Road', 'address2...</td>\n",
       "      <td>+19017514060</td>\n",
       "      <td>(901) 751-4060</td>\n",
       "      <td>14856.398767</td>\n",
       "      <td>$</td>\n",
       "    </tr>\n",
       "    <tr>\n",
       "      <th>536</th>\n",
       "      <td>HkVFe1agKAYKmYf2rlQcGQ</td>\n",
       "      <td>wendys-memphis-30</td>\n",
       "      <td>Wendy's</td>\n",
       "      <td></td>\n",
       "      <td>False</td>\n",
       "      <td>https://www.yelp.com/biz/wendys-memphis-30?adj...</td>\n",
       "      <td>6</td>\n",
       "      <td>[{'alias': 'burgers', 'title': 'Burgers'}, {'a...</td>\n",
       "      <td>1.0</td>\n",
       "      <td>{'latitude': 35.0503311, 'longitude': -89.8544...</td>\n",
       "      <td>[delivery]</td>\n",
       "      <td>{'address1': '6260 Winchester Rd', 'address2':...</td>\n",
       "      <td>+19017951466</td>\n",
       "      <td>(901) 795-1466</td>\n",
       "      <td>16535.763650</td>\n",
       "      <td>$</td>\n",
       "    </tr>\n",
       "    <tr>\n",
       "      <th>537</th>\n",
       "      <td>Bp7odxIuzVSIPpiU059BLA</td>\n",
       "      <td>arbys-memphis</td>\n",
       "      <td>Arby's</td>\n",
       "      <td>https://s3-media1.fl.yelpcdn.com/bphoto/NNZ0jS...</td>\n",
       "      <td>False</td>\n",
       "      <td>https://www.yelp.com/biz/arbys-memphis?adjust_...</td>\n",
       "      <td>13</td>\n",
       "      <td>[{'alias': 'sandwiches', 'title': 'Sandwiches'...</td>\n",
       "      <td>3.0</td>\n",
       "      <td>{'latitude': 35.0499611, 'longitude': -89.8057...</td>\n",
       "      <td>[pickup, delivery]</td>\n",
       "      <td>{'address1': '7734 Winchester Rd', 'address2':...</td>\n",
       "      <td>+19017537169</td>\n",
       "      <td>(901) 753-7169</td>\n",
       "      <td>14897.729544</td>\n",
       "      <td>$</td>\n",
       "    </tr>\n",
       "    <tr>\n",
       "      <th>538</th>\n",
       "      <td>1LnBltBfcjHsNi1TP2I42Q</td>\n",
       "      <td>chick-fil-a-memphis-2</td>\n",
       "      <td>Chick-fil-A</td>\n",
       "      <td>https://s3-media1.fl.yelpcdn.com/bphoto/hr_En8...</td>\n",
       "      <td>False</td>\n",
       "      <td>https://www.yelp.com/biz/chick-fil-a-memphis-2...</td>\n",
       "      <td>47</td>\n",
       "      <td>[{'alias': 'hotdogs', 'title': 'Fast Food'}, {...</td>\n",
       "      <td>3.0</td>\n",
       "      <td>{'latitude': 35.0494834, 'longitude': -89.8275...</td>\n",
       "      <td>[]</td>\n",
       "      <td>{'address1': '7072 Winchester Rd', 'address2':...</td>\n",
       "      <td>+19017371778</td>\n",
       "      <td>(901) 737-1778</td>\n",
       "      <td>15552.811301</td>\n",
       "      <td>$</td>\n",
       "    </tr>\n",
       "  </tbody>\n",
       "</table>\n",
       "</div>"
      ],
      "text/plain": [
       "                         id                  alias         name  \\\n",
       "534  FujfxdOnpZRGqVIIBDjDZQ    wendys-collierville      Wendy's   \n",
       "535  fQ1X272mVxgxzQGfWUT13w      wendys-memphis-27      Wendy's   \n",
       "536  HkVFe1agKAYKmYf2rlQcGQ      wendys-memphis-30      Wendy's   \n",
       "537  Bp7odxIuzVSIPpiU059BLA          arbys-memphis       Arby's   \n",
       "538  1LnBltBfcjHsNi1TP2I42Q  chick-fil-a-memphis-2  Chick-fil-A   \n",
       "\n",
       "                                             image_url  is_closed  \\\n",
       "534  https://s3-media3.fl.yelpcdn.com/bphoto/NS3xMp...      False   \n",
       "535  https://s3-media1.fl.yelpcdn.com/bphoto/UdkMfY...      False   \n",
       "536                                                         False   \n",
       "537  https://s3-media1.fl.yelpcdn.com/bphoto/NNZ0jS...      False   \n",
       "538  https://s3-media1.fl.yelpcdn.com/bphoto/hr_En8...      False   \n",
       "\n",
       "                                                   url  review_count  \\\n",
       "534  https://www.yelp.com/biz/wendys-collierville?a...            43   \n",
       "535  https://www.yelp.com/biz/wendys-memphis-27?adj...            11   \n",
       "536  https://www.yelp.com/biz/wendys-memphis-30?adj...             6   \n",
       "537  https://www.yelp.com/biz/arbys-memphis?adjust_...            13   \n",
       "538  https://www.yelp.com/biz/chick-fil-a-memphis-2...            47   \n",
       "\n",
       "                                            categories  rating  \\\n",
       "534  [{'alias': 'burgers', 'title': 'Burgers'}, {'a...     1.5   \n",
       "535  [{'alias': 'burgers', 'title': 'Burgers'}, {'a...     2.0   \n",
       "536  [{'alias': 'burgers', 'title': 'Burgers'}, {'a...     1.0   \n",
       "537  [{'alias': 'sandwiches', 'title': 'Sandwiches'...     3.0   \n",
       "538  [{'alias': 'hotdogs', 'title': 'Fast Food'}, {...     3.0   \n",
       "\n",
       "                                           coordinates        transactions  \\\n",
       "534     {'latitude': 35.04637, 'longitude': -89.68607}          [delivery]   \n",
       "535     {'latitude': 35.04907, 'longitude': -89.79892}          [delivery]   \n",
       "536  {'latitude': 35.0503311, 'longitude': -89.8544...          [delivery]   \n",
       "537  {'latitude': 35.0499611, 'longitude': -89.8057...  [pickup, delivery]   \n",
       "538  {'latitude': 35.0494834, 'longitude': -89.8275...                  []   \n",
       "\n",
       "                                              location         phone  \\\n",
       "534  {'address1': '714 W Poplar Ave', 'address2': '...  +19018546037   \n",
       "535  {'address1': '7928 Winchester Road', 'address2...  +19017514060   \n",
       "536  {'address1': '6260 Winchester Rd', 'address2':...  +19017951466   \n",
       "537  {'address1': '7734 Winchester Rd', 'address2':...  +19017537169   \n",
       "538  {'address1': '7072 Winchester Rd', 'address2':...  +19017371778   \n",
       "\n",
       "      display_phone      distance price  \n",
       "534  (901) 854-6037  16530.433193     $  \n",
       "535  (901) 751-4060  14856.398767     $  \n",
       "536  (901) 795-1466  16535.763650     $  \n",
       "537  (901) 753-7169  14897.729544     $  \n",
       "538  (901) 737-1778  15552.811301     $  "
      ]
     },
     "metadata": {},
     "output_type": "display_data"
    }
   ],
   "source": [
    "# load final results\n",
    "final_df = pd.read_json(JSON_FILE)\n",
    "display(final_df.head(), final_df.tail())"
   ]
  },
  {
   "cell_type": "code",
   "execution_count": 16,
   "id": "40d7a33f",
   "metadata": {},
   "outputs": [
    {
     "data": {
      "text/plain": [
       "1"
      ]
     },
     "execution_count": 16,
     "metadata": {},
     "output_type": "execute_result"
    }
   ],
   "source": [
    "# check for duplicate IDs\n",
    "final_df.duplicated(subset='id').sum()"
   ]
  },
  {
   "cell_type": "code",
   "execution_count": 17,
   "id": "c3e4d63f",
   "metadata": {},
   "outputs": [],
   "source": [
    "# save the final results to a compressed csv\n",
    "final_df.to_csv('Data/final_results_Barbecue.csv.gz', compression='gzip',index=False)"
   ]
  },
  {
   "cell_type": "code",
   "execution_count": null,
   "id": "8178cf60",
   "metadata": {},
   "outputs": [],
   "source": []
  }
 ],
 "metadata": {
  "kernelspec": {
   "display_name": "Python (dojo-env)",
   "language": "python",
   "name": "dojo-env"
  },
  "language_info": {
   "codemirror_mode": {
    "name": "ipython",
    "version": 3
   },
   "file_extension": ".py",
   "mimetype": "text/x-python",
   "name": "python",
   "nbconvert_exporter": "python",
   "pygments_lexer": "ipython3",
   "version": "3.7.12"
  },
  "toc": {
   "base_numbering": 1,
   "nav_menu": {},
   "number_sections": true,
   "sideBar": true,
   "skip_h1_title": false,
   "title_cell": "Table of Contents",
   "title_sidebar": "Contents",
   "toc_cell": false,
   "toc_position": {},
   "toc_section_display": true,
   "toc_window_display": false
  }
 },
 "nbformat": 4,
 "nbformat_minor": 5
}
